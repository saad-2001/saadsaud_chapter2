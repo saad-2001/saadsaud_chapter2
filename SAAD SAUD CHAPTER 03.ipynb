{
 "cells": [
  {
   "cell_type": "markdown",
   "metadata": {},
   "source": [
    "# SAAD SAUD CHAP 03"
   ]
  },
  {
   "cell_type": "markdown",
   "metadata": {},
   "source": [
    "# PRACTISE 01"
   ]
  },
  {
   "cell_type": "code",
   "execution_count": 58,
   "metadata": {},
   "outputs": [
    {
     "name": "stdout",
     "output_type": "stream",
     "text": [
      "enter temperature in degree farenheit: 34\n",
      "the temperature in degree celcius is 1.1111111111111112\n"
     ]
    }
   ],
   "source": [
    "deg_far = eval(input(\"enter temperature in degree farenheit: \"))\n",
    "celcius = (deg_far - 32) * 5/9\n",
    "print(\"the temperature in degree celcius is\", celcius)"
   ]
  },
  {
   "cell_type": "markdown",
   "metadata": {},
   "source": [
    "# PRACTISE 02"
   ]
  },
  {
   "cell_type": "code",
   "execution_count": 4,
   "metadata": {},
   "outputs": [
    {
     "name": "stdout",
     "output_type": "stream",
     "text": [
      "enter you age: 63\n",
      "you can get your pension\n",
      "one of the top 5 baseball players ever!\n",
      "enter the number of hits 11\n",
      "enter the number of sheilds 0\n",
      "you are dead\n",
      "i can escape\n"
     ]
    }
   ],
   "source": [
    "# a\n",
    "age = eval(input(\"enter you age: \"))\n",
    "\n",
    "if age>62:\n",
    "    print(\"you can get your pension\")\n",
    "\n",
    "# b\n",
    "players = ['musial','aaron','williams','gehrig','ruth']\n",
    "if 'aaron'in players:\n",
    "    print(\"one of the top 5 baseball players ever!\")\n",
    "    \n",
    "# c\n",
    "hits = eval(input(\"enter the number of hits \"))\n",
    "sheilds = eval(input(\"enter the number of sheilds \"))\n",
    "if hits>10 and sheilds == 0:\n",
    "    print(\"you are dead\")\n",
    "    \n",
    "# d\n",
    "north = [1]\n",
    "south = []\n",
    "east = [1]\n",
    "west = []\n",
    "if (north or south or east or west):\n",
    "    print(\"i can escape\")"
   ]
  },
  {
   "cell_type": "markdown",
   "metadata": {},
   "source": [
    "# PRACTISE 03"
   ]
  },
  {
   "cell_type": "code",
   "execution_count": 10,
   "metadata": {},
   "outputs": [
    {
     "name": "stdout",
     "output_type": "stream",
     "text": [
      "Definitely not a leap year\n",
      "Better luck next time...\n"
     ]
    }
   ],
   "source": [
    "# a\n",
    "year = 2019\n",
    "if year % 4 == 0:\n",
    "    print('Could be a leap year')\n",
    "else:\n",
    "    print('Definitely not a leap year')\n",
    "# b\n",
    "ticket = 'saad'\n",
    "lottery = 'saud'\n",
    "if ticket == lottery:\n",
    "    print('You won!')\n",
    "else:\n",
    "    print('Better luck next time...')"
   ]
  },
  {
   "cell_type": "markdown",
   "metadata": {},
   "source": [
    "# PRACTISE 04"
   ]
  },
  {
   "cell_type": "code",
   "execution_count": 11,
   "metadata": {},
   "outputs": [
    {
     "name": "stdout",
     "output_type": "stream",
     "text": [
      "Login: sue\n",
      "You are in!\n",
      "Done.\n"
     ]
    }
   ],
   "source": [
    "users = ['joe', 'sue', 'hani', 'sophie']\n",
    "id = input('Login: ')\n",
    "if id in users:\n",
    "    print('You are in!')\n",
    "else:\n",
    "    print('User unknown.')\n",
    "print('Done.')\n"
   ]
  },
  {
   "cell_type": "markdown",
   "metadata": {},
   "source": [
    "# PROGRAM 05"
   ]
  },
  {
   "cell_type": "code",
   "execution_count": 14,
   "metadata": {},
   "outputs": [
    {
     "name": "stdout",
     "output_type": "stream",
     "text": [
      "Enter word list: ['stop', 'desktop', 'top', 'post']\n",
      "stop\n",
      "post\n"
     ]
    }
   ],
   "source": [
    "wordList = eval(input('Enter word list: '))\n",
    "for word in wordList:\n",
    "    if len(word) == 4:\n",
    "        print(word)"
   ]
  },
  {
   "cell_type": "markdown",
   "metadata": {},
   "source": [
    "# PRACTISE 06"
   ]
  },
  {
   "cell_type": "code",
   "execution_count": 15,
   "metadata": {},
   "outputs": [
    {
     "name": "stdout",
     "output_type": "stream",
     "text": [
      "Integer from 0 to 9\n",
      "0\n",
      "1\n",
      "2\n",
      "3\n",
      "4\n",
      "5\n",
      "6\n",
      "7\n",
      "8\n",
      "9\n",
      "Integer from 0 to 1\n",
      "0\n",
      "1\n"
     ]
    }
   ],
   "source": [
    "print(\"Integer from 0 to 9\")\n",
    "for i in range(10):\n",
    "    print(i)\n",
    "print(\"Integer from 0 to 1\")  \n",
    "for i in range(2):\n",
    "    print(i)"
   ]
  },
  {
   "cell_type": "markdown",
   "metadata": {},
   "source": [
    "# PRACTISE 07"
   ]
  },
  {
   "cell_type": "code",
   "execution_count": 16,
   "metadata": {},
   "outputs": [
    {
     "name": "stdout",
     "output_type": "stream",
     "text": [
      "Integer from 3 up to and including 12: \n",
      "3\n",
      "4\n",
      "5\n",
      "6\n",
      "7\n",
      "8\n",
      "9\n",
      "10\n",
      "11\n",
      "12\n"
     ]
    }
   ],
   "source": [
    "# A\n",
    "print(\"Integer from 3 up to and including 12: \")\n",
    "for i in range(3, 13):\n",
    "    print(i)"
   ]
  },
  {
   "cell_type": "code",
   "execution_count": 17,
   "metadata": {},
   "outputs": [
    {
     "name": "stdout",
     "output_type": "stream",
     "text": [
      "Integer from 0 up to but not including 9, but with a step of 2 instead of the default 1\n",
      "0\n",
      "2\n",
      "4\n",
      "6\n",
      "8\n"
     ]
    }
   ],
   "source": [
    "# B\n",
    "print(\"Integer from 0 up to but not including 9, but with a step of 2 instead of the default 1\")\n",
    "\n",
    "for i in range(0, 10, 2):\n",
    "    print(i)"
   ]
  },
  {
   "cell_type": "code",
   "execution_count": 18,
   "metadata": {},
   "outputs": [
    {
     "name": "stdout",
     "output_type": "stream",
     "text": [
      "Integer from 0 up to but not including 24 with a step of 3:\n",
      "0\n",
      "3\n",
      "6\n",
      "9\n",
      "12\n",
      "15\n",
      "18\n",
      "21\n"
     ]
    }
   ],
   "source": [
    "# C\n",
    "print(\"Integer from 0 up to but not including 24 with a step of 3:\")\n",
    "\n",
    "for i in range(0, 24, 3):\n",
    "    print(i)"
   ]
  },
  {
   "cell_type": "code",
   "execution_count": 19,
   "metadata": {},
   "outputs": [
    {
     "name": "stdout",
     "output_type": "stream",
     "text": [
      "Integer from 3 up to but not including 12 with a step of 5:\n",
      "3\n",
      "8\n"
     ]
    }
   ],
   "source": [
    "# D\n",
    "print(\"Integer from 3 up to but not including 12 with a step of 5:\")\n",
    "\n",
    "for i in range(3, 12, 5):\n",
    "    print(i)"
   ]
  },
  {
   "cell_type": "markdown",
   "metadata": {},
   "source": [
    "# PRACTISE 08"
   ]
  },
  {
   "cell_type": "code",
   "execution_count": 20,
   "metadata": {},
   "outputs": [
    {
     "data": {
      "text/plain": [
       "31.41592653589793"
      ]
     },
     "execution_count": 20,
     "metadata": {},
     "output_type": "execute_result"
    }
   ],
   "source": [
    "from math import pi\n",
    "radius = 5\n",
    "def perimeter():\n",
    "    a = 2*pi*radius\n",
    "    return a\n",
    "    print(\"the perimeter is \", a)\n",
    "perimeter()"
   ]
  },
  {
   "cell_type": "markdown",
   "metadata": {},
   "source": [
    "# PRACTISE 09"
   ]
  },
  {
   "cell_type": "code",
   "execution_count": 21,
   "metadata": {},
   "outputs": [
    {
     "name": "stdout",
     "output_type": "stream",
     "text": [
      "enter number 1:1\n",
      "enter number 2: 2\n"
     ]
    },
    {
     "data": {
      "text/plain": [
       "1.5"
      ]
     },
     "execution_count": 21,
     "metadata": {},
     "output_type": "execute_result"
    }
   ],
   "source": [
    "n1 = int(input(\"enter number 1:\"))\n",
    "n2 = int(input(\"enter number 2: \"))\n",
    "def average():\n",
    "    a = (n1+n2)/2\n",
    "    return a \n",
    "    print(\"the average is \", a)\n",
    "average()"
   ]
  },
  {
   "cell_type": "markdown",
   "metadata": {},
   "source": [
    "# PRACTISE 10"
   ]
  },
  {
   "cell_type": "code",
   "execution_count": 22,
   "metadata": {},
   "outputs": [
    {
     "name": "stdout",
     "output_type": "stream",
     "text": [
      "False\n"
     ]
    }
   ],
   "source": [
    "def noVowel(s):\n",
    "    'return True if string s contains no vowel, False otherwise'\n",
    "    for c in s:\n",
    "        if c in 'aeiouAEIOU':\n",
    "            return False\n",
    "        return True\n",
    "    \n",
    "print(noVowel('octopus'))"
   ]
  },
  {
   "cell_type": "markdown",
   "metadata": {},
   "source": [
    "# PRACTISE 11"
   ]
  },
  {
   "cell_type": "code",
   "execution_count": 23,
   "metadata": {},
   "outputs": [
    {
     "name": "stdout",
     "output_type": "stream",
     "text": [
      "[2, 4, 6, 8, 4]contains even number: True\n",
      "[1, 2, 5, 6, 8]contains even number: False\n"
     ]
    }
   ],
   "source": [
    "\n",
    "def allEven(numList):\n",
    "    'return True if all integers in numList are even, False otherwise'\n",
    "    for num in numList:\n",
    "        if num % 2 != 0:\n",
    "            return False\n",
    "    return True\n",
    "\n",
    "numList = [2,4,6,8,4]\n",
    "anotherList = [1,2,5,6,8]\n",
    "\n",
    "print(str(numList) + \"contains even number: \"+ str(allEven(numList)))\n",
    "print(str(anotherList) + \"contains even number: \"+ str(allEven(anotherList)))"
   ]
  },
  {
   "cell_type": "markdown",
   "metadata": {},
   "source": [
    "# PRACTISE 12"
   ]
  },
  {
   "cell_type": "code",
   "execution_count": 24,
   "metadata": {},
   "outputs": [
    {
     "name": "stdout",
     "output_type": "stream",
     "text": [
      "-1\n",
      "-5\n"
     ]
    }
   ],
   "source": [
    "\n",
    "def negatives(lst):\n",
    "    'prints the negative numbers in list lst'\n",
    "    for i in lst:\n",
    "        if i < 0:\n",
    "            print(i)\n",
    "            \n",
    "negatives([2,-1,3,-5,2,2])"
   ]
  },
  {
   "cell_type": "markdown",
   "metadata": {},
   "source": [
    "# PRACTISE 13"
   ]
  },
  {
   "cell_type": "code",
   "execution_count": 25,
   "metadata": {},
   "outputs": [
    {
     "name": "stdout",
     "output_type": "stream",
     "text": [
      "Help on function average in module __main__:\n",
      "\n",
      "average()\n",
      "\n",
      "Help on function negatives in module __main__:\n",
      "\n",
      "negatives(lst)\n",
      "    prints the negative numbers in list lst\n",
      "\n"
     ]
    }
   ],
   "source": [
    "# 3.13\n",
    "\n",
    "help(average)\n",
    "help(negatives)"
   ]
  },
  {
   "cell_type": "markdown",
   "metadata": {},
   "source": [
    "# PRACTISE 15"
   ]
  },
  {
   "cell_type": "code",
   "execution_count": 27,
   "metadata": {},
   "outputs": [
    {
     "name": "stdout",
     "output_type": "stream",
     "text": [
      "['Yasir', 'Ali', 'Sohaib', 'Saad']\n"
     ]
    }
   ],
   "source": [
    "team = ['Saad','Ali','Sohaib','Yasir']\n",
    "\n",
    "team[0], team[-1] = team[-1], team[0]\n",
    "\n",
    "print(team)"
   ]
  },
  {
   "cell_type": "markdown",
   "metadata": {},
   "source": [
    "# PRACTISE 16"
   ]
  },
  {
   "cell_type": "code",
   "execution_count": 28,
   "metadata": {},
   "outputs": [
    {
     "name": "stdout",
     "output_type": "stream",
     "text": [
      "['apples', 'sugar', 'butter', 'flour']\n"
     ]
    }
   ],
   "source": [
    "ingredients =['flour','sugar','butter','apples']\n",
    "\n",
    "def swapFL(lst):\n",
    "    lst[0], lst[-1] = lst[-1], lst[0]\n",
    "    \n",
    "swapFL(ingredients)\n",
    "print(ingredients)"
   ]
  },
  {
   "cell_type": "markdown",
   "metadata": {},
   "source": [
    "# EXERCISE 3.18"
   ]
  },
  {
   "cell_type": "code",
   "execution_count": 56,
   "metadata": {},
   "outputs": [
    {
     "name": "stdout",
     "output_type": "stream",
     "text": [
      "OK\n",
      "C is not less than b\n",
      "the sum of a and b is not equal to c\n",
      "OK\n"
     ]
    }
   ],
   "source": [
    "a=3\n",
    "b=4\n",
    "c=5\n",
    "if a<b:\n",
    "    print(\"OK\")\n",
    "if c<b:\n",
    "    print(\"OK\")\n",
    "else:\n",
    "    print(\"C is not less than b\")\n",
    "if a+b==c:\n",
    "    print(\"OK\")\n",
    "else:\n",
    "    print(\"the sum of a and b is not equal to c\")\n",
    "if a**2+b**2==c**2:\n",
    "    print(\"OK\")\n",
    "else:\n",
    "    print(\"NOT OK\")"
   ]
  },
  {
   "cell_type": "markdown",
   "metadata": {},
   "source": [
    "# EXERCISE 3.20"
   ]
  },
  {
   "cell_type": "code",
   "execution_count": 21,
   "metadata": {},
   "outputs": [
    {
     "name": "stdout",
     "output_type": "stream",
     "text": [
      "jan\n",
      "feb\n",
      "mar\n"
     ]
    }
   ],
   "source": [
    "lst = ['january','february','march']\n",
    "\n",
    "for january in lst:\n",
    "    print(january[0:3])\n"
   ]
  },
  {
   "cell_type": "markdown",
   "metadata": {},
   "source": [
    "# EXERCISE 3.21"
   ]
  },
  {
   "cell_type": "code",
   "execution_count": 12,
   "metadata": {},
   "outputs": [
    {
     "name": "stdout",
     "output_type": "stream",
     "text": [
      "2 4 6 8 "
     ]
    }
   ],
   "source": [
    "lst = [2, 3, 4, 5, 6, 7, 8, 9] \n",
    "  \n",
    "for num in lst: \n",
    "    if num % 2 == 0:\n",
    "        print(num, end = \" \") "
   ]
  },
  {
   "cell_type": "markdown",
   "metadata": {},
   "source": [
    "# EXERCISE 3.22"
   ]
  },
  {
   "cell_type": "code",
   "execution_count": 14,
   "metadata": {},
   "outputs": [
    {
     "name": "stdout",
     "output_type": "stream",
     "text": [
      "4\n",
      "8\n"
     ]
    }
   ],
   "source": [
    "lst = [2, 3, 4, 5, 6, 7, 8, 9]\n",
    "\n",
    "for num in lst:\n",
    "    if (num * num) % 8 == 0:\n",
    "        print(num)"
   ]
  },
  {
   "cell_type": "markdown",
   "metadata": {},
   "source": [
    "# EXERCISE 3.23"
   ]
  },
  {
   "cell_type": "code",
   "execution_count": 33,
   "metadata": {},
   "outputs": [
    {
     "name": "stdout",
     "output_type": "stream",
     "text": [
      "0 1 "
     ]
    }
   ],
   "source": [
    "# a\n",
    "for i in range(2):\n",
    "    print(i, end = \" \")"
   ]
  },
  {
   "cell_type": "code",
   "execution_count": 19,
   "metadata": {},
   "outputs": [
    {
     "name": "stdout",
     "output_type": "stream",
     "text": [
      "0 "
     ]
    }
   ],
   "source": [
    "# b\n",
    "for i in range(1):\n",
    "    print(i, end = \" \")"
   ]
  },
  {
   "cell_type": "code",
   "execution_count": 26,
   "metadata": {},
   "outputs": [
    {
     "name": "stdout",
     "output_type": "stream",
     "text": [
      "3 4 5 6 "
     ]
    }
   ],
   "source": [
    "# c\n",
    "for i in range(3,7):\n",
    "    print(i, end = \" \")"
   ]
  },
  {
   "cell_type": "code",
   "execution_count": 30,
   "metadata": {},
   "outputs": [
    {
     "name": "stdout",
     "output_type": "stream",
     "text": [
      "1 "
     ]
    }
   ],
   "source": [
    "# d\n",
    "for i in range(1,2):\n",
    "    print(i, end = \" \")"
   ]
  },
  {
   "cell_type": "code",
   "execution_count": 34,
   "metadata": {},
   "outputs": [
    {
     "name": "stdout",
     "output_type": "stream",
     "text": [
      "0 3 "
     ]
    }
   ],
   "source": [
    "# e\n",
    "for i in range(0,4,3):\n",
    "    print(i, end = \" \")"
   ]
  },
  {
   "cell_type": "code",
   "execution_count": 36,
   "metadata": {},
   "outputs": [
    {
     "name": "stdout",
     "output_type": "stream",
     "text": [
      "5 9 13 17 21 "
     ]
    }
   ],
   "source": [
    "# f\n",
    "for i in range(5,22,4):\n",
    "    print(i, end = \" \")"
   ]
  },
  {
   "cell_type": "markdown",
   "metadata": {},
   "source": [
    "# EXERCISE 3.24"
   ]
  },
  {
   "cell_type": "code",
   "execution_count": 34,
   "metadata": {},
   "outputs": [
    {
     "name": "stdout",
     "output_type": "stream",
     "text": [
      " enter the list of words:  ['cia','secret','mi6','isi','secret']\n",
      "cia\n",
      "mi6\n",
      "isi\n"
     ]
    }
   ],
   "source": [
    "words = eval(input(\" enter the list of words: \"))\n",
    "for word in words:\n",
    "    if word!='secret':\n",
    "        print(word)"
   ]
  },
  {
   "cell_type": "markdown",
   "metadata": {},
   "source": [
    "# EXERCISE 3.25"
   ]
  },
  {
   "cell_type": "code",
   "execution_count": 28,
   "metadata": {},
   "outputs": [
    {
     "name": "stdout",
     "output_type": "stream",
     "text": [
      "enter list: ['Ellie', 'Steve', 'Sam', 'Owen', 'Gavin']\n",
      "Ellie\n",
      "Gavin\n"
     ]
    }
   ],
   "source": [
    "names = eval(input(\"enter list: \"))\n",
    "names_1 = names[0]\n",
    "names_2 = names[-1]\n",
    "print(names_1)\n",
    "print(names_2)"
   ]
  },
  {
   "cell_type": "markdown",
   "metadata": {},
   "source": [
    "# EXERCISE 3.26"
   ]
  },
  {
   "cell_type": "code",
   "execution_count": 29,
   "metadata": {},
   "outputs": [
    {
     "name": "stdout",
     "output_type": "stream",
     "text": [
      "enter a list [3, 5, 7, 9]\n",
      "The first list element is 3\n",
      "The last list element is 9\n"
     ]
    }
   ],
   "source": [
    "numbers = eval(input(\"enter a list\"))\n",
    "num_1 = numbers[0]\n",
    "num_2 = numbers[3]\n",
    "print(\"The first list element is\", num_1)\n",
    "print(\"The last list element is\", num_2)"
   ]
  },
  {
   "cell_type": "markdown",
   "metadata": {},
   "source": [
    "# EXERCISE 3.27"
   ]
  },
  {
   "cell_type": "code",
   "execution_count": 31,
   "metadata": {},
   "outputs": [
    {
     "name": "stdout",
     "output_type": "stream",
     "text": [
      "Enter n:5\n",
      "5\n",
      "10\n",
      "15\n",
      "20\n"
     ]
    }
   ],
   "source": [
    "n = int(input(\"Enter n:\"))\n",
    "for i in range(4):\n",
    "    print(n*(i+1))"
   ]
  },
  {
   "cell_type": "markdown",
   "metadata": {},
   "source": [
    "# EXERCISE 3.28"
   ]
  },
  {
   "cell_type": "code",
   "execution_count": 41,
   "metadata": {},
   "outputs": [
    {
     "name": "stdout",
     "output_type": "stream",
     "text": [
      "enter n: 4\n",
      "0\n",
      "1\n",
      "4\n",
      "9\n",
      "16\n",
      "25\n"
     ]
    }
   ],
   "source": [
    "integer = eval(input(\"enter n: \"))\n",
    "for i in range(0,n):\n",
    "    if i!=n:\n",
    "        s = i**2\n",
    "        print(s)"
   ]
  },
  {
   "cell_type": "markdown",
   "metadata": {},
   "source": [
    "# EXERCISE 3.30"
   ]
  },
  {
   "cell_type": "code",
   "execution_count": 42,
   "metadata": {},
   "outputs": [
    {
     "name": "stdout",
     "output_type": "stream",
     "text": [
      "enter the first number: 4.5\n",
      "enter the second number: 3\n",
      "enter the third number: 4.5\n",
      "enter the fourth number: 3\n",
      "equal\n"
     ]
    }
   ],
   "source": [
    "num_1 = eval(input(\"enter the first number: \"))\n",
    "num_2 = eval(input(\"enter the second number: \"))\n",
    "num_3 = eval(input(\"enter the third number: \"))\n",
    "num_4 = eval(input(\"enter the fourth number: \"))\n",
    "\n",
    "if (num_1 + num_2 + num_3)/4 == num_4:\n",
    "    print(\"equal\")"
   ]
  },
  {
   "cell_type": "markdown",
   "metadata": {},
   "source": [
    "# EXERCISE 3.31"
   ]
  },
  {
   "cell_type": "code",
   "execution_count": 46,
   "metadata": {},
   "outputs": [
    {
     "name": "stdout",
     "output_type": "stream",
     "text": [
      "enter the x-cordinate: 2.5\n",
      "enter the y-cordinate: 4\n",
      "it is not in\n"
     ]
    }
   ],
   "source": [
    "radius = 8\n",
    "a = 0\n",
    "b = 0\n",
    "x = eval(input(\"enter the x-cordinate: \"))\n",
    "y = eval(input(\"enter the y-cordinate: \"))\n",
    "point = (x-a)**2+(y-b)**2\n",
    "if point<radius:\n",
    "    print(\"it is in\")\n",
    "else:\n",
    "    print(\"it is not in\")"
   ]
  },
  {
   "cell_type": "markdown",
   "metadata": {},
   "source": [
    "# EXERCISE 3.32"
   ]
  },
  {
   "cell_type": "code",
   "execution_count": 50,
   "metadata": {},
   "outputs": [
    {
     "name": "stdout",
     "output_type": "stream",
     "text": [
      "enter n: 1234\n",
      "1\n",
      "2\n",
      "3\n",
      "4\n"
     ]
    }
   ],
   "source": [
    "number = input(\"enter n: \")\n",
    "number.split()\n",
    "for i in number:\n",
    "    print(i)"
   ]
  },
  {
   "cell_type": "markdown",
   "metadata": {},
   "source": [
    "# EXERCISE 3.33"
   ]
  },
  {
   "cell_type": "code",
   "execution_count": 53,
   "metadata": {},
   "outputs": [
    {
     "name": "stdout",
     "output_type": "stream",
     "text": [
      "reversed_string : abc\n",
      "cba\n"
     ]
    }
   ],
   "source": [
    "def reverse(s): \n",
    "  str = \"\" \n",
    "  for i in s: \n",
    "    str = i + str\n",
    "  return str\n",
    "  \n",
    "s = \"abc\"\n",
    "  \n",
    "print (\"reversed_string : \",end=\"\") \n",
    "print (s) \n",
    "print (reverse(s)) \n"
   ]
  },
  {
   "cell_type": "markdown",
   "metadata": {},
   "source": [
    "# EXERCISE 3.34"
   ]
  },
  {
   "cell_type": "code",
   "execution_count": 35,
   "metadata": {},
   "outputs": [
    {
     "name": "stdout",
     "output_type": "stream",
     "text": [
      "how many hours you have worked2\n",
      "You have worked less than 40 hours\n"
     ]
    },
    {
     "data": {
      "text/plain": [
       "666.6666666666666"
      ]
     },
     "execution_count": 35,
     "metadata": {},
     "output_type": "execute_result"
    }
   ],
   "source": [
    "\n",
    "def pay(hours):\n",
    "    if hours<40:\n",
    "        a=(hours/1.5)*500\n",
    "        print(\"You have worked less than 40 hours\")\n",
    "        return a\n",
    "    else :\n",
    "        a=hours*500\n",
    "        print(\"you have worked hard\")\n",
    "        return a\n",
    "    \n",
    "h=int(input(\"how many hours you have worked\"))\n",
    "pay(h)\n"
   ]
  },
  {
   "cell_type": "markdown",
   "metadata": {},
   "source": [
    "# EXERCISE 3.35"
   ]
  },
  {
   "cell_type": "code",
   "execution_count": 36,
   "metadata": {},
   "outputs": [
    {
     "name": "stdout",
     "output_type": "stream",
     "text": [
      "Enter value of n6\n"
     ]
    },
    {
     "data": {
      "text/plain": [
       "0.015625"
      ]
     },
     "execution_count": 36,
     "metadata": {},
     "output_type": "execute_result"
    }
   ],
   "source": [
    "def prob(n):\n",
    "    res=2**-n\n",
    "    return res\n",
    "n=int(input(\"Enter value of n\"))\n",
    "prob(n)"
   ]
  },
  {
   "cell_type": "markdown",
   "metadata": {},
   "source": [
    "# EXERCISE 3.36"
   ]
  },
  {
   "cell_type": "code",
   "execution_count": 37,
   "metadata": {},
   "outputs": [
    {
     "name": "stdout",
     "output_type": "stream",
     "text": [
      "Enter enter string1,2,3\n"
     ]
    },
    {
     "data": {
      "text/plain": [
       "'3,2,1'"
      ]
     },
     "execution_count": 37,
     "metadata": {},
     "output_type": "execute_result"
    }
   ],
   "source": [
    "def rev(a):\n",
    "    res=a[::-1]\n",
    "    return res\n",
    "a=str(input(\"Enter enter string\"))\n",
    "rev(a)\n"
   ]
  },
  {
   "cell_type": "markdown",
   "metadata": {},
   "source": [
    "# EXERCISE 3.37"
   ]
  },
  {
   "cell_type": "code",
   "execution_count": 40,
   "metadata": {},
   "outputs": [
    {
     "name": "stdout",
     "output_type": "stream",
     "text": [
      "Line is vertical\n",
      "distance is 3.0\n"
     ]
    }
   ],
   "source": [
    "def points(x1,y1,x2,y2):\n",
    "    res=(y2-y1)/(x2-x1)\n",
    "    if res==0:\n",
    "        print(\"Line is vertical\")\n",
    "    else:\n",
    "        return res\n",
    "points(1,1,0,1)\n",
    "from math import sqrt\n",
    "def distance(x1,y1,x2,y2):\n",
    "    a=(x2-x1)*(y2-y1)\n",
    "    b=sqrt(a)\n",
    "    print(\"distance is\", b)\n",
    "distance(1,2,4,5)"
   ]
  },
  {
   "cell_type": "markdown",
   "metadata": {},
   "source": [
    "# EXERCISE 3.41"
   ]
  },
  {
   "cell_type": "code",
   "execution_count": 55,
   "metadata": {},
   "outputs": [
    {
     "name": "stdout",
     "output_type": "stream",
     "text": [
      "Enter your name: saad saud\n",
      "duas daas\n"
     ]
    }
   ],
   "source": [
    "a=input(\"Enter your name: \")\n",
    "b=a[::-1]\n",
    "print(b)"
   ]
  },
  {
   "cell_type": "markdown",
   "metadata": {},
   "source": [
    "# EXERCISE 3.44"
   ]
  },
  {
   "cell_type": "code",
   "execution_count": 3,
   "metadata": {},
   "outputs": [
    {
     "name": "stdout",
     "output_type": "stream",
     "text": [
      "What is the time (in seconds) elapsed between the flash and thunder? 5\n",
      "The distance to a lightening strike is  1.0416666666666667 miles\n"
     ]
    }
   ],
   "source": [
    "def main():\n",
    "    time = eval(input(\"What is the time (in seconds) elapsed between the flash and thunder? \"))\n",
    "    sound = 1100*time\n",
    "    ans = sound/5280\n",
    "    print(\"The distance to a lightening strike is \", ans , \"miles\")\n",
    "main()"
   ]
  }
 ],
 "metadata": {
  "kernelspec": {
   "display_name": "Python 3",
   "language": "python",
   "name": "python3"
  },
  "language_info": {
   "codemirror_mode": {
    "name": "ipython",
    "version": 3
   },
   "file_extension": ".py",
   "mimetype": "text/x-python",
   "name": "python",
   "nbconvert_exporter": "python",
   "pygments_lexer": "ipython3",
   "version": "3.7.3"
  }
 },
 "nbformat": 4,
 "nbformat_minor": 2
}
