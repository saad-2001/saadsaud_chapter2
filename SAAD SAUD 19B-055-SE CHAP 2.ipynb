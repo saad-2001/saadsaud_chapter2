{
 "cells": [
  {
   "cell_type": "markdown",
   "metadata": {},
   "source": [
    "# SAAD SAUD 19B-055-SE SECTION A"
   ]
  },
  {
   "cell_type": "markdown",
   "metadata": {},
   "source": [
    "# PRACTISE PROBLEM # 2.1 (A) [SUM OF 5 POSITIVE INTEGERS]"
   ]
  },
  {
   "cell_type": "code",
   "execution_count": 1,
   "metadata": {},
   "outputs": [
    {
     "name": "stdout",
     "output_type": "stream",
     "text": [
      "enter the first positive integer 1\n",
      "enter the second positive integer 2\n",
      "enter the third positive integer 3\n",
      "enter the fourth positive integer 4\n",
      "enter the fifth positive integer 5\n",
      "sum of first five positive integers is  15\n"
     ]
    }
   ],
   "source": [
    "a = int(input(\"enter the first positive integer \"))\n",
    "b = int(input(\"enter the second positive integer \"))\n",
    "c = int(input(\"enter the third positive integer \"))\n",
    "d = int(input(\"enter the fourth positive integer \"))\n",
    "e = int(input(\"enter the fifth positive integer \"))\n",
    "sum_integers = (a + b + c + d + e)\n",
    "print(\"sum of first five positive integers is \", sum_integers)"
   ]
  },
  {
   "cell_type": "markdown",
   "metadata": {},
   "source": [
    "# 2.1 (B) [AVERAGE AGE]"
   ]
  },
  {
   "cell_type": "code",
   "execution_count": 3,
   "metadata": {},
   "outputs": [
    {
     "name": "stdout",
     "output_type": "stream",
     "text": [
      "enter the age of sara 23\n",
      "enter the age of mark 19\n",
      "enter the age of fatima 31\n",
      "the average age is  24.333333333333332\n"
     ]
    }
   ],
   "source": [
    "sara = int(input(\"enter the age of sara \"))\n",
    "mark = int(input(\"enter the age of mark \"))\n",
    "fatima = int(input(\"enter the age of fatima \"))\n",
    "average_age = (sara + mark + fatima)/3\n",
    "print(\"the average age is \", average_age)"
   ]
  },
  {
   "cell_type": "markdown",
   "metadata": {},
   "source": [
    "# 2.1 (C) [number of times 73 goes into 403]"
   ]
  },
  {
   "cell_type": "code",
   "execution_count": 4,
   "metadata": {},
   "outputs": [
    {
     "name": "stdout",
     "output_type": "stream",
     "text": [
      "enter the number 73\n",
      "enter the number 403\n",
      "the no. of times 73 goes into 403 is  5.52054794520548\n"
     ]
    }
   ],
   "source": [
    "a = int(input(\"enter the number \"))\n",
    "b = int(input(\"enter the number \"))\n",
    "no_of_times = (b/a)\n",
    "print(\"the no. of times 73 goes into 403 is \", no_of_times)"
   ]
  },
  {
   "cell_type": "markdown",
   "metadata": {},
   "source": [
    "# 2.1 (D) [REMAINDER WHEN 403 DIVIDED BY 73]"
   ]
  },
  {
   "cell_type": "code",
   "execution_count": 5,
   "metadata": {},
   "outputs": [
    {
     "name": "stdout",
     "output_type": "stream",
     "text": [
      "enter the number 73\n",
      "enter the number 403\n",
      "the remainder is  38\n"
     ]
    }
   ],
   "source": [
    "a = int(input(\"enter the number \"))\n",
    "b = int(input(\"enter the number \"))\n",
    "remainder = (b % a)\n",
    "print(\"the remainder is \", remainder)"
   ]
  },
  {
   "cell_type": "markdown",
   "metadata": {},
   "source": [
    "# 2.1 (E) [2 TO THE POWER OF 10]"
   ]
  },
  {
   "cell_type": "code",
   "execution_count": 6,
   "metadata": {},
   "outputs": [
    {
     "name": "stdout",
     "output_type": "stream",
     "text": [
      "enter the number 2\n",
      "2 to the 10th power  1024\n"
     ]
    }
   ],
   "source": [
    "a = int(input(\"enter the number \"))\n",
    "power_of_10 = (a**10)\n",
    "print(\"2 to the 10th power \", power_of_10)"
   ]
  },
  {
   "cell_type": "markdown",
   "metadata": {},
   "source": [
    "# 2.1 (F) [ABSOLUTE DIFFERENCE]"
   ]
  },
  {
   "cell_type": "code",
   "execution_count": 7,
   "metadata": {},
   "outputs": [
    {
     "name": "stdout",
     "output_type": "stream",
     "text": [
      "enter the height of sara 54\n",
      "enter the height of mark 57\n",
      "the absolute value of difference is  -3\n"
     ]
    }
   ],
   "source": [
    "sara_height = int(input(\"enter the height of sara \"))\n",
    "mark_height = int(input(\"enter the height of mark \"))\n",
    "abs_difference = (sara_height - mark_height)\n",
    "print(\"the absolute value of difference is \", abs_difference)"
   ]
  },
  {
   "cell_type": "markdown",
   "metadata": {},
   "source": [
    "# 2.1 (G) [lowest price]"
   ]
  },
  {
   "cell_type": "code",
   "execution_count": 8,
   "metadata": {},
   "outputs": [
    {
     "name": "stdout",
     "output_type": "stream",
     "text": [
      "lowest price among the three($34.99,$29.95,$31.50) is: $ 29.95\n"
     ]
    }
   ],
   "source": [
    "print(\"lowest price among the three($34.99,$29.95,$31.50) is: $\",min(34.99,29.95,31.50))\n",
    "\n"
   ]
  },
  {
   "cell_type": "markdown",
   "metadata": {},
   "source": [
    "# PRACTISE PROBLEM # 2.2 (A) [BOOLEAN EXPRESSION]"
   ]
  },
  {
   "cell_type": "code",
   "execution_count": 10,
   "metadata": {},
   "outputs": [
    {
     "name": "stdout",
     "output_type": "stream",
     "text": [
      "False\n"
     ]
    }
   ],
   "source": [
    "a = 2+2<4\n",
    "print(a)"
   ]
  },
  {
   "cell_type": "markdown",
   "metadata": {},
   "source": [
    "# 2.2 (B) "
   ]
  },
  {
   "cell_type": "code",
   "execution_count": 12,
   "metadata": {},
   "outputs": [
    {
     "name": "stdout",
     "output_type": "stream",
     "text": [
      "True\n"
     ]
    }
   ],
   "source": [
    "b = 7//3==1+1\n",
    "print(b)"
   ]
  },
  {
   "cell_type": "markdown",
   "metadata": {},
   "source": [
    "# 2.2 (C)"
   ]
  },
  {
   "cell_type": "code",
   "execution_count": 13,
   "metadata": {},
   "outputs": [
    {
     "name": "stdout",
     "output_type": "stream",
     "text": [
      "True\n"
     ]
    }
   ],
   "source": [
    "c = 3**2+4**2==25\n",
    "print(c)"
   ]
  },
  {
   "cell_type": "markdown",
   "metadata": {},
   "source": [
    "# 2.2(D)"
   ]
  },
  {
   "cell_type": "code",
   "execution_count": 14,
   "metadata": {},
   "outputs": [
    {
     "name": "stdout",
     "output_type": "stream",
     "text": [
      "False\n"
     ]
    }
   ],
   "source": [
    "d = 2 + 4 + 6 > 12\n",
    "print(d)"
   ]
  },
  {
   "cell_type": "markdown",
   "metadata": {},
   "source": [
    "# 2.2(E)"
   ]
  },
  {
   "cell_type": "code",
   "execution_count": 18,
   "metadata": {},
   "outputs": [
    {
     "name": "stdout",
     "output_type": "stream",
     "text": [
      "true\n"
     ]
    }
   ],
   "source": [
    "num_1 = 1387\n",
    "num_2 = 19\n",
    "ans = (num_1/num_2)\n",
    "if num_1/num_2:\n",
    "    print(\"true\")"
   ]
  },
  {
   "cell_type": "markdown",
   "metadata": {},
   "source": [
    "# 2.2(F)\n"
   ]
  },
  {
   "cell_type": "code",
   "execution_count": 20,
   "metadata": {},
   "outputs": [
    {
     "name": "stdout",
     "output_type": "stream",
     "text": [
      "false\n"
     ]
    }
   ],
   "source": [
    "num = 31\n",
    "even_num = (31%2)\n",
    "if even_num == 2:\n",
    "    print(\"even\")\n",
    "else:\n",
    "    print(\"false\")"
   ]
  },
  {
   "cell_type": "markdown",
   "metadata": {},
   "source": [
    "# PRACTISE PROBLEM # 2.3 (A) [ASSIGN VALUE]"
   ]
  },
  {
   "cell_type": "code",
   "execution_count": 22,
   "metadata": {},
   "outputs": [
    {
     "name": "stdout",
     "output_type": "stream",
     "text": [
      "the value of a is 3\n"
     ]
    }
   ],
   "source": [
    "a = int(input(\"the value of a is \"))"
   ]
  },
  {
   "cell_type": "markdown",
   "metadata": {},
   "source": [
    "# 2.3 (B)"
   ]
  },
  {
   "cell_type": "code",
   "execution_count": 23,
   "metadata": {},
   "outputs": [
    {
     "name": "stdout",
     "output_type": "stream",
     "text": [
      "the value of b is 4\n"
     ]
    }
   ],
   "source": [
    "b = int(input(\"the value of b is \"))"
   ]
  },
  {
   "cell_type": "markdown",
   "metadata": {},
   "source": [
    "# 2.3 (C)"
   ]
  },
  {
   "cell_type": "code",
   "execution_count": 26,
   "metadata": {},
   "outputs": [
    {
     "name": "stdout",
     "output_type": "stream",
     "text": [
      "the value of c is  25\n"
     ]
    }
   ],
   "source": [
    "a = 3\n",
    "b = 4\n",
    "c = a * a + b * b\n",
    "print(\"the value of c is \", c)"
   ]
  },
  {
   "cell_type": "markdown",
   "metadata": {},
   "source": [
    "# PRACTISE PROBLEM # 2.4 [OPERATORS]"
   ]
  },
  {
   "cell_type": "code",
   "execution_count": 32,
   "metadata": {},
   "outputs": [
    {
     "name": "stdout",
     "output_type": "stream",
     "text": [
      "antbatcod\n"
     ]
    }
   ],
   "source": [
    "s1 = 'ant'\n",
    "s2 = 'bat'\n",
    "s3 = 'cod'\n",
    "x = (s1 + s2 + s3)\n",
    "print(x)"
   ]
  },
  {
   "cell_type": "markdown",
   "metadata": {},
   "source": [
    "# 2.4 (B)"
   ]
  },
  {
   "cell_type": "code",
   "execution_count": 33,
   "metadata": {},
   "outputs": [
    {
     "name": "stdout",
     "output_type": "stream",
     "text": [
      "antantantantantantantantantant\n"
     ]
    }
   ],
   "source": [
    "s1 = 'ant'\n",
    "y = (s1 * 10)\n",
    "print(y)"
   ]
  },
  {
   "cell_type": "markdown",
   "metadata": {},
   "source": [
    "# 2.4 (C)"
   ]
  },
  {
   "cell_type": "code",
   "execution_count": 34,
   "metadata": {},
   "outputs": [
    {
     "name": "stdout",
     "output_type": "stream",
     "text": [
      "ant\n",
      "batbat\n",
      "codcodcod\n"
     ]
    }
   ],
   "source": [
    "s1 = 'ant'\n",
    "s2 = 'bat'\n",
    "s3 = 'cod'\n",
    "x = (s2 * 2)\n",
    "print(x)\n",
    "y = (s3 *3)\n",
    "print(y)"
   ]
  },
  {
   "cell_type": "markdown",
   "metadata": {},
   "source": [
    "# 2.4 (E)"
   ]
  },
  {
   "cell_type": "code",
   "execution_count": 36,
   "metadata": {},
   "outputs": [
    {
     "name": "stdout",
     "output_type": "stream",
     "text": [
      "batbatcodbatbatcodbatbatcodbatbatcodbatbatcod\n"
     ]
    }
   ],
   "source": [
    "s2 = 'bat'\n",
    "s3 = 'cod'\n",
    "sum = (s2 + s2 + s3)*5\n",
    "print(sum)"
   ]
  },
  {
   "cell_type": "markdown",
   "metadata": {},
   "source": [
    "# PRACTISE EXERCISE # 2.5 "
   ]
  },
  {
   "cell_type": "code",
   "execution_count": 37,
   "metadata": {},
   "outputs": [
    {
     "name": "stdout",
     "output_type": "stream",
     "text": [
      "0\n",
      "1\n",
      "6\n",
      "8\n",
      "9\n"
     ]
    }
   ],
   "source": [
    "s = '0123456789'\n",
    "# a\n",
    "print(s[0])\n",
    "# b\n",
    "print(s[1])\n",
    "# c\n",
    "print(s[6])\n",
    "# d\n",
    "print(s[8])\n",
    "# e\n",
    "print(s[9])"
   ]
  },
  {
   "cell_type": "markdown",
   "metadata": {},
   "source": [
    "# PRACTISE EXERCISE # 2.6"
   ]
  },
  {
   "cell_type": "code",
   "execution_count": 38,
   "metadata": {},
   "outputs": [
    {
     "name": "stdout",
     "output_type": "stream",
     "text": [
      "bar\n",
      "badminton\n",
      "['bar', 'ball', 'barn', 'basket', 'badminton']\n"
     ]
    }
   ],
   "source": [
    "words = ['bar','ball','barn','basket','badminton']\n",
    "print(words[0])\n",
    "print(words[-1])\n",
    "print(words[0:])"
   ]
  },
  {
   "cell_type": "markdown",
   "metadata": {},
   "source": [
    "# PRACTISE EXERCISE # 2.7"
   ]
  },
  {
   "cell_type": "code",
   "execution_count": 40,
   "metadata": {},
   "outputs": [
    {
     "name": "stdout",
     "output_type": "stream",
     "text": [
      "2\n",
      "\n",
      "\t\n",
      "4\n",
      "\n",
      "\t\n",
      "10\n",
      "\n",
      "\t\n",
      "None\n",
      "\n",
      "\t\n",
      "6.777777777777778\n"
     ]
    }
   ],
   "source": [
    "grades = [9,7,7,10,3,9,6,6,2]\n",
    "# a\n",
    "a = grades.count(7)\n",
    "print(a)\n",
    "print(\"\\n\\t\")\n",
    "\n",
    "# b\n",
    "a = grades[-1]=4\n",
    "print(a)\n",
    "print(\"\\n\\t\")\n",
    "\n",
    "#c\n",
    "a = max(grades)\n",
    "print(a)\n",
    "print(\"\\n\\t\")\n",
    "\n",
    "# d\n",
    "a = grades.sort()\n",
    "print(a)\n",
    "print(\"\\n\\t\")\n",
    "\n",
    "# e\n",
    "import statistics\n",
    "print(statistics.mean(grades))"
   ]
  },
  {
   "cell_type": "markdown",
   "metadata": {},
   "source": [
    "# PRACTISE EXERCISE 2.8"
   ]
  },
  {
   "cell_type": "code",
   "execution_count": 45,
   "metadata": {},
   "outputs": [
    {
     "name": "stdout",
     "output_type": "stream",
     "text": [
      "a) ((2+3) ==4)or (a >=5)\n",
      "b) (((lst[1])*(-3)) <(-10)) ==0\n",
      "c) (((lst[1])*(-3)) <(-10)) in [0,true]\n",
      "d) 2 * (3**2)\n",
      "e) (4/2) in [1,2,3]\n"
     ]
    }
   ],
   "source": [
    "print('a)','((2+3) ==4)or (a >=5)')\n",
    "print('b)','(((lst[1])*(-3)) <(-10)) ==0')\n",
    "print('c)',\"(((lst[1])*(-3)) <(-10)) in [0,true]\")\n",
    "print('d)','2 * (3**2)')\n",
    "print('e)','(4/2) in [1,2,3]')"
   ]
  },
  {
   "cell_type": "markdown",
   "metadata": {},
   "source": [
    "# PRACTISE EXERCISE 2.9"
   ]
  },
  {
   "cell_type": "code",
   "execution_count": 42,
   "metadata": {},
   "outputs": [
    {
     "name": "stdout",
     "output_type": "stream",
     "text": [
      "<class 'int'>\n",
      "<class 'float'>\n",
      "<class 'int'>\n",
      "<class 'bool'>\n"
     ]
    }
   ],
   "source": [
    "# a\n",
    "a = False +False\n",
    "print(type(a))\n",
    "# b\n",
    "b = 2*3**2.0\n",
    "print(type(b))\n",
    "# c\n",
    "c = 4//2+4%2\n",
    "print(type(c))\n",
    "# d\n",
    "d = 2 + 3 == 4 or 5>=5\n",
    "print(type(d))"
   ]
  },
  {
   "cell_type": "markdown",
   "metadata": {},
   "source": [
    "# PRACTISE EXERCISE 2.10"
   ]
  },
  {
   "cell_type": "code",
   "execution_count": 43,
   "metadata": {},
   "outputs": [
    {
     "name": "stdout",
     "output_type": "stream",
     "text": [
      "8\n",
      "false\n",
      "28.274333882308138m^2\n",
      "False\n",
      "False\n"
     ]
    }
   ],
   "source": [
    "# a\n",
    "a = 2\n",
    "b = 2\n",
    "c = a**2 +b**2\n",
    "print(c)\n",
    "# b\n",
    "if c == 5:\n",
    "    print('true')\n",
    "else:\n",
    "    print('false')\n",
    "# c\n",
    "from math import pi\n",
    "r = 3\n",
    "area = pi * r ** 2\n",
    "print(str(area)+'m^2')\n",
    "# d\n",
    "r = 10\n",
    "x = 2\n",
    "y = 1\n",
    "a = x + y == r\n",
    "b = x ** 2 + y ** 2==r **2\n",
    "print(a)\n",
    "print(b)"
   ]
  },
  {
   "cell_type": "markdown",
   "metadata": {},
   "source": [
    "# PRACTISE PROBLEM 2.11"
   ]
  },
  {
   "cell_type": "code",
   "execution_count": 44,
   "metadata": {},
   "outputs": [
    {
     "name": "stdout",
     "output_type": "stream",
     "text": [
      "[-28]\n",
      "127.76470588235294\n",
      "9.5367431640625e-07\n",
      "71\n",
      "34\n"
     ]
    }
   ],
   "source": [
    "lst = [-7-6-5-4-3-2-1]\n",
    "print(lst)\n",
    "average_age = 9*17+24*10+21*11+27*12\n",
    "x = average_1 = average_age/17+24+21+27\n",
    "print(average_1)\n",
    "a = 2**-20\n",
    "print(a)\n",
    "b = 4356//61\n",
    "print(b)\n",
    "c = 4365%61\n",
    "print(c)"
   ]
  },
  {
   "cell_type": "markdown",
   "metadata": {},
   "source": [
    "# EXERCISE 2.12"
   ]
  },
  {
   "cell_type": "code",
   "execution_count": 49,
   "metadata": {},
   "outputs": [
    {
     "name": "stdout",
     "output_type": "stream",
     "text": [
      "(15, 6, 7)\n",
      "55.666666666666664\n",
      "1048576\n",
      "71.40983606557377\n",
      "25\n"
     ]
    }
   ],
   "source": [
    "# a\n",
    "integers = [1,2,3,4,5,6,7]\n",
    "sum_integers = (1+2+3+4+5,6,7)\n",
    "print(sum_integers)\n",
    "# b\n",
    "sara = 65\n",
    "mark = 57\n",
    "fatima = 45\n",
    "average = (sara+mark+fatima)/3\n",
    "print(average)\n",
    "# c\n",
    "num = 2\n",
    "power = num**20\n",
    "print(power)\n",
    "# d\n",
    "a = 61\n",
    "b = 4356\n",
    "no_of_times = b/a\n",
    "print(no_of_times)\n",
    "# e\n",
    "a = 61\n",
    "b = 4356\n",
    "remainder = b%a\n",
    "print(remainder)"
   ]
  },
  {
   "cell_type": "markdown",
   "metadata": {},
   "source": [
    "# EXERCISE 2.13"
   ]
  },
  {
   "cell_type": "code",
   "execution_count": 54,
   "metadata": {},
   "outputs": [
    {
     "name": "stdout",
     "output_type": "stream",
     "text": [
      "-+\n",
      "-+\n",
      "+--\n",
      "+--+--\n",
      "+--+--+--+--+--+--+--+--+--+--+\n",
      "+-+++--+-+++--+-+++--+-+++--+-+++--\n"
     ]
    }
   ],
   "source": [
    "s1 = '-'\n",
    "s2 = '+'\n",
    "# a\n",
    "sum = s1+s2\n",
    "print(sum)\n",
    "# b\n",
    "sum = s1+s2\n",
    "print(sum)\n",
    "# c\n",
    "sum = s2+s1+s1\n",
    "print(sum)\n",
    "# d\n",
    "sum = (s2+s1+s1)*2\n",
    "print(sum)\n",
    "# e\n",
    "sum = ((s2+s1+s1)*10)+s2\n",
    "print(sum)\n",
    "# f\n",
    "sum = (s2+s1+s2*3+s1*2)*5\n",
    "print(sum)"
   ]
  },
  {
   "cell_type": "markdown",
   "metadata": {},
   "source": [
    "# EXERCISE 2.14"
   ]
  },
  {
   "cell_type": "code",
   "execution_count": 56,
   "metadata": {},
   "outputs": [
    {
     "name": "stdout",
     "output_type": "stream",
     "text": [
      "a\n",
      "c\n",
      "z\n",
      "y\n",
      "q\n"
     ]
    }
   ],
   "source": [
    "s = 'abcdefghijklmnopqrstuvwxyz'\n",
    "# a\n",
    "print(s[0])\n",
    "# b\n",
    "print(s[2])\n",
    "# c\n",
    "print(s[25])\n",
    "# d\n",
    "print(s[24])\n",
    "# e\n",
    "print(s[16])"
   ]
  },
  {
   "cell_type": "markdown",
   "metadata": {},
   "source": [
    "# EXERCISE 2.15"
   ]
  },
  {
   "cell_type": "code",
   "execution_count": 62,
   "metadata": {},
   "outputs": [
    {
     "ename": "NameError",
     "evalue": "name 'g' is not defined",
     "output_type": "error",
     "traceback": [
      "\u001b[1;31m---------------------------------------------------------------------------\u001b[0m",
      "\u001b[1;31mNameError\u001b[0m                                 Traceback (most recent call last)",
      "\u001b[1;32m<ipython-input-62-4d9025f564fe>\u001b[0m in \u001b[0;36m<module>\u001b[1;34m\u001b[0m\n\u001b[0;32m      2\u001b[0m \u001b[1;31m# a\u001b[0m\u001b[1;33m\u001b[0m\u001b[1;33m\u001b[0m\u001b[1;33m\u001b[0m\u001b[0m\n\u001b[0;32m      3\u001b[0m \u001b[0ms\u001b[0m\u001b[1;33m[\u001b[0m\u001b[1;36m0\u001b[0m\u001b[1;33m]\u001b[0m\u001b[1;33m\u001b[0m\u001b[1;33m\u001b[0m\u001b[0m\n\u001b[1;32m----> 4\u001b[1;33m \u001b[1;32mif\u001b[0m \u001b[0ms\u001b[0m\u001b[1;33m[\u001b[0m\u001b[1;36m0\u001b[0m\u001b[1;33m]\u001b[0m\u001b[1;33m==\u001b[0m\u001b[0mg\u001b[0m\u001b[1;33m:\u001b[0m\u001b[1;33m\u001b[0m\u001b[1;33m\u001b[0m\u001b[0m\n\u001b[0m\u001b[0;32m      5\u001b[0m     \u001b[0mprint\u001b[0m\u001b[1;33m(\u001b[0m\u001b[1;34m\"true\"\u001b[0m\u001b[1;33m)\u001b[0m\u001b[1;33m\u001b[0m\u001b[1;33m\u001b[0m\u001b[0m\n",
      "\u001b[1;31mNameError\u001b[0m: name 'g' is not defined"
     ]
    }
   ],
   "source": []
  },
  {
   "cell_type": "markdown",
   "metadata": {},
   "source": [
    "# EXERCISE 2.16"
   ]
  },
  {
   "cell_type": "code",
   "execution_count": 64,
   "metadata": {},
   "outputs": [
    {
     "name": "stdout",
     "output_type": "stream",
     "text": [
      "6\n",
      "7\n",
      "6.5\n",
      "('paper', 'staples', 'pencils')\n",
      "john\n",
      "fitzgerald\n",
      "kennedy\n",
      "john fitzgerald kennedy\n"
     ]
    }
   ],
   "source": [
    "# A\n",
    "a = 6\n",
    "b = 7\n",
    "print(a)\n",
    "print(b)\n",
    "# B\n",
    "a = 6\n",
    "b = 7\n",
    "c = (a+b)/2\n",
    "print(c)\n",
    "# C\n",
    "inventory = ('paper','staples','pencils')\n",
    "print(inventory)\n",
    "# D\n",
    "first = 'john'\n",
    "middle = 'fitzgerald'\n",
    "last = 'kennedy'\n",
    "print(first)\n",
    "print(middle)\n",
    "print(last)\n",
    "# E\n",
    "fullname = (first + middle + last)\n",
    "print(first, middle, last)"
   ]
  },
  {
   "cell_type": "markdown",
   "metadata": {},
   "source": [
    "# EXERCISE 2.17"
   ]
  },
  {
   "cell_type": "code",
   "execution_count": 76,
   "metadata": {},
   "outputs": [
    {
     "name": "stdout",
     "output_type": "stream",
     "text": [
      "true\n",
      "false\n",
      "true\n",
      "true\n"
     ]
    },
    {
     "data": {
      "text/plain": [
       "False"
      ]
     },
     "execution_count": 76,
     "metadata": {},
     "output_type": "execute_result"
    }
   ],
   "source": [
    "# a\n",
    "a = 17\n",
    "b = -9\n",
    "sum = a+b\n",
    "if sum < 10:\n",
    "    print(\"true\")\n",
    "else:\n",
    "    print('false')\n",
    "# b\n",
    "inventory = ('paper','staples','pencils')\n",
    "fullname = ('john fitzgerald kennedy')\n",
    "x = len(inventory)\n",
    "y = len(fullname)\n",
    "if x > y:\n",
    "    print(\"true\")\n",
    "else:\n",
    "    print(\"false\")\n",
    "# c\n",
    "c = 6.5\n",
    "if c <= 24:\n",
    "    print(\"true\")\n",
    "else:\n",
    "    print(\"false\")\n",
    "# d\n",
    "a = 6\n",
    "b = 7\n",
    "d = 6.75\n",
    "if d>=a and d<=7:\n",
    "    print(\"true\")\n",
    "# e\n",
    "middle = 'fitzgerald'\n",
    "first = 'john'\n",
    "last = 'kennedy'\n",
    "x = len(middle)\n",
    "y = len(first)\n",
    "z = len(last)\n",
    "x>y and x<z"
   ]
  },
  {
   "cell_type": "markdown",
   "metadata": {},
   "source": [
    "# EXERCISE 2.18\n"
   ]
  },
  {
   "cell_type": "code",
   "execution_count": 81,
   "metadata": {},
   "outputs": [
    {
     "name": "stdout",
     "output_type": "stream",
     "text": [
      "['rose', 'bougainvillia', 'yucca', 'marigold', 'daylilly', 'lilly of the valley']\n",
      "['rose', 'bougainvillia', 'yucca']\n",
      "['lilly of the valley']\n",
      "[['rose', 'bougainvillia', 'yucca'], ['lilly of the valley']]\n"
     ]
    }
   ],
   "source": [
    "# a\n",
    "flowers = ['rose','bougainvillia','yucca','marigold','daylilly','lilly of the valley']\n",
    "print(flowers)\n",
    "# b\n",
    "'potato' in [flowers]\n",
    "# c\n",
    "thorny = [flowers[0],flowers[1],flowers[2]]\n",
    "print(thorny)\n",
    "# d\n",
    "poisonous = [flowers[-1]]\n",
    "print(poisonous)\n",
    "# e\n",
    "dangerous=[thorny]+[poisonous]\n",
    "print(dangerous)"
   ]
  },
  {
   "cell_type": "markdown",
   "metadata": {},
   "source": [
    "# EXERCISE 2.19"
   ]
  },
  {
   "cell_type": "code",
   "execution_count": 82,
   "metadata": {},
   "outputs": [
    {
     "name": "stdout",
     "output_type": "stream",
     "text": [
      "True\n",
      "False\n",
      "True\n",
      "False\n"
     ]
    }
   ],
   "source": [
    "import math\n",
    "r = 10\n",
    "X = 0\n",
    "Y = 0\n",
    "a=math.sqrt((0-0)**2+(0-0)**2)\n",
    "b=math.sqrt((10-0)**2+(10-0)**2)\n",
    "c=math.sqrt((6-0)**2+(6-0)**2)\n",
    "d=math.sqrt((8-0)**2+(7-0)**2)\n",
    "print(a<r)\n",
    "print(b<r)\n",
    "print(c<r)\n",
    "print(d<r)"
   ]
  }
 ],
 "metadata": {
  "kernelspec": {
   "display_name": "Python 3",
   "language": "python",
   "name": "python3"
  },
  "language_info": {
   "codemirror_mode": {
    "name": "ipython",
    "version": 3
   },
   "file_extension": ".py",
   "mimetype": "text/x-python",
   "name": "python",
   "nbconvert_exporter": "python",
   "pygments_lexer": "ipython3",
   "version": "3.7.3"
  }
 },
 "nbformat": 4,
 "nbformat_minor": 2
}
